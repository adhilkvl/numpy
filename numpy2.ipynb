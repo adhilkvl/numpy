{
 "cells": [
  {
   "cell_type": "markdown",
   "id": "408b2a99",
   "metadata": {},
   "source": [
    "## new learn "
   ]
  },
  {
   "cell_type": "code",
   "execution_count": 11,
   "id": "8697a86d",
   "metadata": {},
   "outputs": [],
   "source": [
    "import numpy as np"
   ]
  },
  {
   "cell_type": "code",
   "execution_count": 3,
   "id": "ff31765c",
   "metadata": {},
   "outputs": [
    {
     "name": "stdout",
     "output_type": "stream",
     "text": [
      "[1.+0.j 2.+0.j 3.+0.j 4.+0.j]\n"
     ]
    }
   ],
   "source": [
    "arr=np.array([1,2,3,4],dtype='complex')\n",
    "print(arr)"
   ]
  },
  {
   "cell_type": "code",
   "execution_count": 4,
   "id": "c0813f19",
   "metadata": {},
   "outputs": [
    {
     "data": {
      "text/plain": [
       "16"
      ]
     },
     "execution_count": 4,
     "metadata": {},
     "output_type": "execute_result"
    }
   ],
   "source": [
    "arr.itemsize"
   ]
  },
  {
   "cell_type": "code",
   "execution_count": 5,
   "id": "fd22a603",
   "metadata": {},
   "outputs": [
    {
     "data": {
      "text/plain": [
       "dtype('complex128')"
      ]
     },
     "execution_count": 5,
     "metadata": {},
     "output_type": "execute_result"
    }
   ],
   "source": [
    "arr.dtype"
   ]
  },
  {
   "cell_type": "code",
   "execution_count": 7,
   "id": "28cb57f0",
   "metadata": {},
   "outputs": [
    {
     "data": {
      "text/plain": [
       "array([0., 0., 0., 0.])"
      ]
     },
     "execution_count": 7,
     "metadata": {},
     "output_type": "execute_result"
    }
   ],
   "source": [
    "arr.imag"
   ]
  },
  {
   "cell_type": "code",
   "execution_count": 8,
   "id": "9d0c5082",
   "metadata": {},
   "outputs": [
    {
     "data": {
      "text/plain": [
       "array([1., 2., 3., 4.])"
      ]
     },
     "execution_count": 8,
     "metadata": {},
     "output_type": "execute_result"
    }
   ],
   "source": [
    "arr.real"
   ]
  },
  {
   "cell_type": "code",
   "execution_count": 9,
   "id": "040259d7",
   "metadata": {},
   "outputs": [],
   "source": [
    "arr.real=np.array([10,20,30,40])"
   ]
  },
  {
   "cell_type": "code",
   "execution_count": 10,
   "id": "6bb50030",
   "metadata": {},
   "outputs": [
    {
     "name": "stdout",
     "output_type": "stream",
     "text": [
      "[10.+0.j 20.+0.j 30.+0.j 40.+0.j]\n"
     ]
    }
   ],
   "source": [
    "print(arr)"
   ]
  },
  {
   "cell_type": "code",
   "execution_count": 14,
   "id": "0d5ea845",
   "metadata": {},
   "outputs": [
    {
     "name": "stdout",
     "output_type": "stream",
     "text": [
      "[[6.23042070e-307 4.67296746e-307 1.69121096e-306]\n",
      " [6.23058707e-307 2.22526399e-307 2.05837348e-312]]\n"
     ]
    }
   ],
   "source": [
    "arr=np.empty((2,3))\n",
    "print(arr)"
   ]
  },
  {
   "cell_type": "code",
   "execution_count": 17,
   "id": "3e28213f",
   "metadata": {},
   "outputs": [
    {
     "name": "stdout",
     "output_type": "stream",
     "text": [
      "[[10. 10. 10.]\n",
      " [10. 10. 10.]]\n"
     ]
    }
   ],
   "source": [
    "arr=np.full_like(arr,10)\n",
    "print(arr)\n"
   ]
  },
  {
   "cell_type": "code",
   "execution_count": 19,
   "id": "5df2219a",
   "metadata": {},
   "outputs": [
    {
     "name": "stdout",
     "output_type": "stream",
     "text": [
      "[[20. 20. 20.]\n",
      " [20. 20. 20.]]\n"
     ]
    }
   ],
   "source": [
    "arr=np.full_like(arr,20)\n",
    "print(arr)"
   ]
  },
  {
   "cell_type": "code",
   "execution_count": 21,
   "id": "cf0e6d63",
   "metadata": {},
   "outputs": [
    {
     "name": "stdout",
     "output_type": "stream",
     "text": [
      "[[0. 0. 0.]\n",
      " [0. 0. 0.]]\n"
     ]
    }
   ],
   "source": [
    "arr=np.zeros_like(arr)\n",
    "print(arr)"
   ]
  },
  {
   "cell_type": "markdown",
   "id": "a67f31f8",
   "metadata": {},
   "source": [
    "## import a file in jupyter notebook"
   ]
  },
  {
   "cell_type": "code",
   "execution_count": 23,
   "id": "0fef9f0b",
   "metadata": {},
   "outputs": [
    {
     "name": "stdout",
     "output_type": "stream",
     "text": [
      "[[10. 40.]\n",
      " [20. 50.]\n",
      " [30. 60.]]\n"
     ]
    }
   ],
   "source": [
    "mark=np.loadtxt('marks',skiprows=1)\n",
    "print(mark)"
   ]
  },
  {
   "cell_type": "markdown",
   "id": "12be1b85",
   "metadata": {},
   "source": [
    "## transpose of metrix"
   ]
  },
  {
   "cell_type": "code",
   "execution_count": 24,
   "id": "24e28ddc",
   "metadata": {},
   "outputs": [
    {
     "name": "stdout",
     "output_type": "stream",
     "text": [
      "[[10. 40.]\n",
      " [20. 50.]\n",
      " [30. 60.]]\n"
     ]
    }
   ],
   "source": [
    "print(mark)"
   ]
  },
  {
   "cell_type": "code",
   "execution_count": 28,
   "id": "b3528970",
   "metadata": {},
   "outputs": [
    {
     "name": "stdout",
     "output_type": "stream",
     "text": [
      "[10. 20. 30.] [40. 50. 60.]\n"
     ]
    }
   ],
   "source": [
    "mark1,mark2=np.loadtxt('marks',skiprows=1,unpack=True)\n",
    "print(mark1,mark2)"
   ]
  },
  {
   "cell_type": "markdown",
   "id": "e7d6dd75",
   "metadata": {},
   "source": [
    " ## From function"
   ]
  },
  {
   "cell_type": "code",
   "execution_count": 30,
   "id": "174865cb",
   "metadata": {},
   "outputs": [
    {
     "name": "stdout",
     "output_type": "stream",
     "text": [
      "[[0 1]\n",
      " [1 2]]\n"
     ]
    }
   ],
   "source": [
    "arr=np.fromfunction(lambda i,j : i+j,(2,2),dtype='int32')\n",
    "print(arr)"
   ]
  },
  {
   "cell_type": "code",
   "execution_count": 31,
   "id": "2476e1aa",
   "metadata": {},
   "outputs": [
    {
     "name": "stdout",
     "output_type": "stream",
     "text": [
      "[[0 1 2]\n",
      " [1 2 3]\n",
      " [2 3 4]]\n"
     ]
    }
   ],
   "source": [
    "arr=np.fromfunction(lambda i,j : i+j,(3,3),dtype='int32')\n",
    "print(arr)"
   ]
  },
  {
   "cell_type": "markdown",
   "id": "4a0a798d",
   "metadata": {},
   "source": [
    "#### it will print the sum of position value like (0,0),(0,1),(1,2) etc....."
   ]
  },
  {
   "cell_type": "code",
   "execution_count": null,
   "id": "99c841df",
   "metadata": {},
   "outputs": [],
   "source": []
  },
  {
   "cell_type": "markdown",
   "id": "dd104f74",
   "metadata": {},
   "source": [
    "## save and load file"
   ]
  },
  {
   "cell_type": "code",
   "execution_count": 36,
   "id": "b62587fd",
   "metadata": {},
   "outputs": [],
   "source": [
    "np.save('sample',np.array([0,1,2,3,4,5]))\n"
   ]
  },
  {
   "cell_type": "code",
   "execution_count": 38,
   "id": "5d6da89e",
   "metadata": {},
   "outputs": [
    {
     "data": {
      "text/plain": [
       "array([0, 1, 2, 3, 4, 5])"
      ]
     },
     "execution_count": 38,
     "metadata": {},
     "output_type": "execute_result"
    }
   ],
   "source": [
    "np.load('sample.npy')"
   ]
  },
  {
   "cell_type": "markdown",
   "id": "337d42d6",
   "metadata": {},
   "source": [
    "## masking"
   ]
  },
  {
   "cell_type": "code",
   "execution_count": 40,
   "id": "33ec900a",
   "metadata": {},
   "outputs": [
    {
     "data": {
      "text/plain": [
       "array([3, 3, 4])"
      ]
     },
     "execution_count": 40,
     "metadata": {},
     "output_type": "execute_result"
    }
   ],
   "source": [
    "b=arr>2\n",
    "arr[b]"
   ]
  },
  {
   "cell_type": "code",
   "execution_count": 41,
   "id": "971aec38",
   "metadata": {},
   "outputs": [
    {
     "name": "stdout",
     "output_type": "stream",
     "text": [
      "[[0 1 2]\n",
      " [1 2 3]\n",
      " [2 3 4]]\n"
     ]
    }
   ],
   "source": [
    "print(arr)"
   ]
  },
  {
   "cell_type": "markdown",
   "id": "7a514a84",
   "metadata": {},
   "source": [
    "## operations"
   ]
  },
  {
   "cell_type": "code",
   "execution_count": 43,
   "id": "2b06a2c4",
   "metadata": {},
   "outputs": [
    {
     "name": "stdout",
     "output_type": "stream",
     "text": [
      "[[10 11 12]\n",
      " [13 14 15]\n",
      " [16 17 18]]\n"
     ]
    }
   ],
   "source": [
    "arr=np.arange(10,19).reshape(3,3)\n",
    "print(arr)"
   ]
  },
  {
   "cell_type": "code",
   "execution_count": 44,
   "id": "298ae046",
   "metadata": {},
   "outputs": [
    {
     "data": {
      "text/plain": [
       "array([[12, 13, 14],\n",
       "       [15, 16, 17],\n",
       "       [18, 19, 20]])"
      ]
     },
     "execution_count": 44,
     "metadata": {},
     "output_type": "execute_result"
    }
   ],
   "source": [
    "arr+2"
   ]
  },
  {
   "cell_type": "code",
   "execution_count": 45,
   "id": "ee2530a8",
   "metadata": {},
   "outputs": [
    {
     "data": {
      "text/plain": [
       "array([[ 8,  9, 10],\n",
       "       [11, 12, 13],\n",
       "       [14, 15, 16]])"
      ]
     },
     "execution_count": 45,
     "metadata": {},
     "output_type": "execute_result"
    }
   ],
   "source": [
    "arr-2"
   ]
  },
  {
   "cell_type": "code",
   "execution_count": 46,
   "id": "ce53a447",
   "metadata": {},
   "outputs": [
    {
     "data": {
      "text/plain": [
       "array([[20, 22, 24],\n",
       "       [26, 28, 30],\n",
       "       [32, 34, 36]])"
      ]
     },
     "execution_count": 46,
     "metadata": {},
     "output_type": "execute_result"
    }
   ],
   "source": [
    "arr*2"
   ]
  },
  {
   "cell_type": "code",
   "execution_count": 47,
   "id": "e85a1ce2",
   "metadata": {},
   "outputs": [
    {
     "name": "stdout",
     "output_type": "stream",
     "text": [
      "[[20 21 22]\n",
      " [23 24 25]\n",
      " [26 27 28]]\n"
     ]
    }
   ],
   "source": [
    "arr1=np.arange(20,29).reshape(3,3)\n",
    "print(arr1)"
   ]
  },
  {
   "cell_type": "code",
   "execution_count": 48,
   "id": "bb0ee728",
   "metadata": {},
   "outputs": [
    {
     "data": {
      "text/plain": [
       "array([[200, 231, 264],\n",
       "       [299, 336, 375],\n",
       "       [416, 459, 504]])"
      ]
     },
     "execution_count": 48,
     "metadata": {},
     "output_type": "execute_result"
    }
   ],
   "source": [
    "arr*arr1"
   ]
  },
  {
   "cell_type": "code",
   "execution_count": 49,
   "id": "fe08c821",
   "metadata": {},
   "outputs": [
    {
     "name": "stdout",
     "output_type": "stream",
     "text": [
      "[[ 765  798  831]\n",
      " [ 972 1014 1056]\n",
      " [1179 1230 1281]]\n"
     ]
    }
   ],
   "source": [
    "arr2=np.dot(arr,arr1)\n",
    "print(arr2)"
   ]
  },
  {
   "cell_type": "code",
   "execution_count": 50,
   "id": "5fae99f3",
   "metadata": {},
   "outputs": [
    {
     "data": {
      "text/plain": [
       "array([[False, False, False],\n",
       "       [False, False, False],\n",
       "       [False, False, False]])"
      ]
     },
     "execution_count": 50,
     "metadata": {},
     "output_type": "execute_result"
    }
   ],
   "source": [
    "arr==arr1"
   ]
  },
  {
   "cell_type": "code",
   "execution_count": 65,
   "id": "342f46d2",
   "metadata": {},
   "outputs": [],
   "source": [
    "arr=np.array([1,2,3,0])\n",
    "arr1=np.array([1,2,6,5])"
   ]
  },
  {
   "cell_type": "code",
   "execution_count": 66,
   "id": "71c1bdb7",
   "metadata": {},
   "outputs": [
    {
     "data": {
      "text/plain": [
       "array([ True,  True, False, False])"
      ]
     },
     "execution_count": 66,
     "metadata": {},
     "output_type": "execute_result"
    }
   ],
   "source": [
    "arr==arr1"
   ]
  },
  {
   "cell_type": "code",
   "execution_count": 67,
   "id": "fd484739",
   "metadata": {},
   "outputs": [
    {
     "data": {
      "text/plain": [
       "array([ True,  True,  True,  True])"
      ]
     },
     "execution_count": 67,
     "metadata": {},
     "output_type": "execute_result"
    }
   ],
   "source": [
    "np.logical_or(arr,arr1)"
   ]
  },
  {
   "cell_type": "code",
   "execution_count": 68,
   "id": "1f3a4eae",
   "metadata": {},
   "outputs": [
    {
     "data": {
      "text/plain": [
       "array([ True,  True,  True, False])"
      ]
     },
     "execution_count": 68,
     "metadata": {},
     "output_type": "execute_result"
    }
   ],
   "source": [
    "np.logical_and(arr,arr1)"
   ]
  },
  {
   "cell_type": "code",
   "execution_count": 69,
   "id": "b400b599",
   "metadata": {},
   "outputs": [
    {
     "data": {
      "text/plain": [
       "array([0.84147098, 0.90929743, 0.14112001, 0.        ])"
      ]
     },
     "execution_count": 69,
     "metadata": {},
     "output_type": "execute_result"
    }
   ],
   "source": [
    "np.sin(arr)"
   ]
  },
  {
   "cell_type": "code",
   "execution_count": 70,
   "id": "be9501bc",
   "metadata": {},
   "outputs": [
    {
     "data": {
      "text/plain": [
       "array([0.        , 0.69314718, 1.79175947, 1.60943791])"
      ]
     },
     "execution_count": 70,
     "metadata": {},
     "output_type": "execute_result"
    }
   ],
   "source": [
    "np.log(arr1)"
   ]
  },
  {
   "cell_type": "code",
   "execution_count": 71,
   "id": "e2da77f7",
   "metadata": {},
   "outputs": [
    {
     "data": {
      "text/plain": [
       "1.5"
      ]
     },
     "execution_count": 71,
     "metadata": {},
     "output_type": "execute_result"
    }
   ],
   "source": [
    "np.mean(arr)"
   ]
  },
  {
   "cell_type": "code",
   "execution_count": 72,
   "id": "21e8a81e",
   "metadata": {},
   "outputs": [
    {
     "data": {
      "text/plain": [
       "1.5"
      ]
     },
     "execution_count": 72,
     "metadata": {},
     "output_type": "execute_result"
    }
   ],
   "source": [
    "np.median(arr)"
   ]
  },
  {
   "cell_type": "code",
   "execution_count": 73,
   "id": "5b82ebb7",
   "metadata": {},
   "outputs": [
    {
     "data": {
      "text/plain": [
       "1.118033988749895"
      ]
     },
     "execution_count": 73,
     "metadata": {},
     "output_type": "execute_result"
    }
   ],
   "source": [
    "np.std(arr)"
   ]
  },
  {
   "cell_type": "code",
   "execution_count": 74,
   "id": "dc7f2615",
   "metadata": {},
   "outputs": [
    {
     "data": {
      "text/plain": [
       "array([ 2.71828183,  7.3890561 , 20.08553692,  1.        ])"
      ]
     },
     "execution_count": 74,
     "metadata": {},
     "output_type": "execute_result"
    }
   ],
   "source": [
    "np.exp(arr)"
   ]
  },
  {
   "cell_type": "code",
   "execution_count": null,
   "id": "534d1687",
   "metadata": {},
   "outputs": [],
   "source": []
  },
  {
   "cell_type": "markdown",
   "id": "505bc9b9",
   "metadata": {},
   "source": [
    "## Reduction"
   ]
  },
  {
   "cell_type": "code",
   "execution_count": 86,
   "id": "b0cf47b6",
   "metadata": {},
   "outputs": [
    {
     "name": "stdout",
     "output_type": "stream",
     "text": [
      "[1 2 6 5]\n"
     ]
    }
   ],
   "source": [
    "print(arr1)"
   ]
  },
  {
   "cell_type": "code",
   "execution_count": 87,
   "id": "c45e7800",
   "metadata": {},
   "outputs": [
    {
     "data": {
      "text/plain": [
       "14"
      ]
     },
     "execution_count": 87,
     "metadata": {},
     "output_type": "execute_result"
    }
   ],
   "source": [
    "np.sum(arr1)"
   ]
  },
  {
   "cell_type": "code",
   "execution_count": 88,
   "id": "f6058802",
   "metadata": {},
   "outputs": [
    {
     "name": "stdout",
     "output_type": "stream",
     "text": [
      "[[10 11 12]\n",
      " [13 14 15]\n",
      " [16 17 18]]\n"
     ]
    }
   ],
   "source": [
    "arr=np.arange(10,19).reshape(3,3)\n",
    "print(arr)"
   ]
  },
  {
   "cell_type": "code",
   "execution_count": 89,
   "id": "3f566b38",
   "metadata": {},
   "outputs": [
    {
     "data": {
      "text/plain": [
       "array([39, 42, 45])"
      ]
     },
     "execution_count": 89,
     "metadata": {},
     "output_type": "execute_result"
    }
   ],
   "source": [
    "np.sum(arr,axis=0)"
   ]
  },
  {
   "cell_type": "code",
   "execution_count": 92,
   "id": "5ba965d9",
   "metadata": {},
   "outputs": [
    {
     "data": {
      "text/plain": [
       "array([33, 42, 51])"
      ]
     },
     "execution_count": 92,
     "metadata": {},
     "output_type": "execute_result"
    }
   ],
   "source": [
    "np.sum(arr,axis=1)"
   ]
  },
  {
   "cell_type": "code",
   "execution_count": 93,
   "id": "eb8ebd93",
   "metadata": {},
   "outputs": [
    {
     "data": {
      "text/plain": [
       "10"
      ]
     },
     "execution_count": 93,
     "metadata": {},
     "output_type": "execute_result"
    }
   ],
   "source": [
    "np.min(arr)"
   ]
  },
  {
   "cell_type": "code",
   "execution_count": 94,
   "id": "f7cd1ddc",
   "metadata": {},
   "outputs": [
    {
     "data": {
      "text/plain": [
       "18"
      ]
     },
     "execution_count": 94,
     "metadata": {},
     "output_type": "execute_result"
    }
   ],
   "source": [
    "np.max(arr)"
   ]
  },
  {
   "cell_type": "code",
   "execution_count": 95,
   "id": "d539bf93",
   "metadata": {},
   "outputs": [
    {
     "data": {
      "text/plain": [
       "array([10, 13, 16])"
      ]
     },
     "execution_count": 95,
     "metadata": {},
     "output_type": "execute_result"
    }
   ],
   "source": [
    "np.min(arr,axis=1)"
   ]
  },
  {
   "cell_type": "markdown",
   "id": "1c206fea",
   "metadata": {},
   "source": [
    "## repeat of an array"
   ]
  },
  {
   "cell_type": "code",
   "execution_count": 96,
   "id": "14534ba5",
   "metadata": {},
   "outputs": [
    {
     "name": "stdout",
     "output_type": "stream",
     "text": [
      "[[10 11 12]\n",
      " [13 14 15]\n",
      " [16 17 18]]\n"
     ]
    }
   ],
   "source": [
    "print(arr)"
   ]
  },
  {
   "cell_type": "code",
   "execution_count": 100,
   "id": "769cfd41",
   "metadata": {},
   "outputs": [
    {
     "data": {
      "text/plain": [
       "array([[10, 10, 11, 11, 12, 12],\n",
       "       [13, 13, 14, 14, 15, 15],\n",
       "       [16, 16, 17, 17, 18, 18]])"
      ]
     },
     "execution_count": 100,
     "metadata": {},
     "output_type": "execute_result"
    }
   ],
   "source": [
    "np.repeat(arr,2,axis=1)"
   ]
  },
  {
   "cell_type": "code",
   "execution_count": 101,
   "id": "25bf775d",
   "metadata": {},
   "outputs": [
    {
     "data": {
      "text/plain": [
       "array([[10, 11, 12],\n",
       "       [10, 11, 12],\n",
       "       [13, 14, 15],\n",
       "       [13, 14, 15],\n",
       "       [16, 17, 18],\n",
       "       [16, 17, 18]])"
      ]
     },
     "execution_count": 101,
     "metadata": {},
     "output_type": "execute_result"
    }
   ],
   "source": [
    "np.repeat(arr,2,axis=0)"
   ]
  },
  {
   "cell_type": "markdown",
   "id": "4ebe3ee4",
   "metadata": {},
   "source": [
    "## expanding and squeezing"
   ]
  },
  {
   "cell_type": "code",
   "execution_count": 114,
   "id": "0db812eb",
   "metadata": {},
   "outputs": [
    {
     "name": "stdout",
     "output_type": "stream",
     "text": [
      "[[[0 0 0]]\n",
      "\n",
      " [[0 0 0]]\n",
      "\n",
      " [[0 0 0]]\n",
      "\n",
      " [[0 0 0]]]\n"
     ]
    }
   ],
   "source": [
    "arr2=np.zeros((4,1,3),dtype='int32')\n",
    "print(arr2)"
   ]
  },
  {
   "cell_type": "code",
   "execution_count": 115,
   "id": "819131e5",
   "metadata": {},
   "outputs": [
    {
     "name": "stdout",
     "output_type": "stream",
     "text": [
      "[[0 0 0]\n",
      " [0 0 0]\n",
      " [0 0 0]\n",
      " [0 0 0]]\n"
     ]
    }
   ],
   "source": [
    "mp=np.squeeze(arr2)\n",
    "print(mp)"
   ]
  },
  {
   "cell_type": "code",
   "execution_count": 105,
   "id": "52c10bca",
   "metadata": {},
   "outputs": [
    {
     "data": {
      "text/plain": [
       "(4, 1, 3)"
      ]
     },
     "execution_count": 105,
     "metadata": {},
     "output_type": "execute_result"
    }
   ],
   "source": [
    "arr2.shape"
   ]
  },
  {
   "cell_type": "code",
   "execution_count": 108,
   "id": "7af82ab1",
   "metadata": {},
   "outputs": [
    {
     "data": {
      "text/plain": [
       "(4, 3)"
      ]
     },
     "execution_count": 108,
     "metadata": {},
     "output_type": "execute_result"
    }
   ],
   "source": [
    "mp.shape"
   ]
  },
  {
   "cell_type": "code",
   "execution_count": 109,
   "id": "d4823d33",
   "metadata": {},
   "outputs": [
    {
     "name": "stdout",
     "output_type": "stream",
     "text": [
      "[[10 11 12]\n",
      " [13 14 15]\n",
      " [16 17 18]]\n"
     ]
    }
   ],
   "source": [
    "print(arr)"
   ]
  },
  {
   "cell_type": "code",
   "execution_count": 110,
   "id": "b130801b",
   "metadata": {},
   "outputs": [
    {
     "data": {
      "text/plain": [
       "(3, 3)"
      ]
     },
     "execution_count": 110,
     "metadata": {},
     "output_type": "execute_result"
    }
   ],
   "source": [
    "arr.shape"
   ]
  },
  {
   "cell_type": "code",
   "execution_count": 120,
   "id": "b2d6699c",
   "metadata": {},
   "outputs": [],
   "source": [
    "mr=np.squeeze(arr)"
   ]
  },
  {
   "cell_type": "code",
   "execution_count": 112,
   "id": "ec980648",
   "metadata": {},
   "outputs": [
    {
     "name": "stdout",
     "output_type": "stream",
     "text": [
      "[[10 11 12]\n",
      " [13 14 15]\n",
      " [16 17 18]]\n"
     ]
    }
   ],
   "source": [
    "print(mr)"
   ]
  },
  {
   "cell_type": "code",
   "execution_count": 113,
   "id": "5a7bf64f",
   "metadata": {},
   "outputs": [
    {
     "data": {
      "text/plain": [
       "(3, 3)"
      ]
     },
     "execution_count": 113,
     "metadata": {},
     "output_type": "execute_result"
    }
   ],
   "source": [
    "mr.shape"
   ]
  },
  {
   "cell_type": "markdown",
   "id": "165392e6",
   "metadata": {},
   "source": [
    "#### squeezing is redues the 1 axis in the array.... like (3,1,2) it will change into like(3,2) if the size = 1 then we can add axis to remove element in array"
   ]
  },
  {
   "cell_type": "markdown",
   "id": "d21fc599",
   "metadata": {},
   "source": [
    "## expanding"
   ]
  },
  {
   "cell_type": "code",
   "execution_count": 127,
   "id": "393f8b61",
   "metadata": {},
   "outputs": [
    {
     "name": "stdout",
     "output_type": "stream",
     "text": [
      "[[0. 0. 0.]\n",
      " [0. 0. 0.]\n",
      " [0. 0. 0.]]\n"
     ]
    }
   ],
   "source": [
    "arr=np.zeros((3,3))\n",
    "print(arr)"
   ]
  },
  {
   "cell_type": "code",
   "execution_count": 134,
   "id": "6263be1f",
   "metadata": {},
   "outputs": [
    {
     "data": {
      "text/plain": [
       "(3, 1, 3)"
      ]
     },
     "execution_count": 134,
     "metadata": {},
     "output_type": "execute_result"
    }
   ],
   "source": [
    "np.expand_dims(arr,axis=1).shape"
   ]
  },
  {
   "cell_type": "code",
   "execution_count": 135,
   "id": "2fce3fb3",
   "metadata": {},
   "outputs": [
    {
     "data": {
      "text/plain": [
       "array([[[0., 0., 0.]],\n",
       "\n",
       "       [[0., 0., 0.]],\n",
       "\n",
       "       [[0., 0., 0.]]])"
      ]
     },
     "execution_count": 135,
     "metadata": {},
     "output_type": "execute_result"
    }
   ],
   "source": [
    "np.expand_dims(arr,axis=1)"
   ]
  },
  {
   "cell_type": "code",
   "execution_count": 136,
   "id": "5e8efa33",
   "metadata": {},
   "outputs": [
    {
     "data": {
      "text/plain": [
       "(3, 3, 1)"
      ]
     },
     "execution_count": 136,
     "metadata": {},
     "output_type": "execute_result"
    }
   ],
   "source": [
    "np.expand_dims(arr,axis=2).shape"
   ]
  },
  {
   "cell_type": "code",
   "execution_count": 137,
   "id": "b9aa00af",
   "metadata": {},
   "outputs": [
    {
     "data": {
      "text/plain": [
       "array([[[0.],\n",
       "        [0.],\n",
       "        [0.]],\n",
       "\n",
       "       [[0.],\n",
       "        [0.],\n",
       "        [0.]],\n",
       "\n",
       "       [[0.],\n",
       "        [0.],\n",
       "        [0.]]])"
      ]
     },
     "execution_count": 137,
     "metadata": {},
     "output_type": "execute_result"
    }
   ],
   "source": [
    "np.expand_dims(arr,axis=2)"
   ]
  },
  {
   "cell_type": "markdown",
   "id": "8801be44",
   "metadata": {},
   "source": [
    "## bordcasting"
   ]
  },
  {
   "cell_type": "code",
   "execution_count": 138,
   "id": "fa1afc92",
   "metadata": {},
   "outputs": [
    {
     "name": "stdout",
     "output_type": "stream",
     "text": [
      "[1 2 3]\n"
     ]
    }
   ],
   "source": [
    "arr=np.array([1,2,3])\n",
    "print(arr)"
   ]
  },
  {
   "cell_type": "code",
   "execution_count": 139,
   "id": "484d08f0",
   "metadata": {},
   "outputs": [
    {
     "data": {
      "text/plain": [
       "array([101, 102, 103])"
      ]
     },
     "execution_count": 139,
     "metadata": {},
     "output_type": "execute_result"
    }
   ],
   "source": [
    "arr+100\n"
   ]
  },
  {
   "cell_type": "code",
   "execution_count": 140,
   "id": "bb3a7e34",
   "metadata": {},
   "outputs": [
    {
     "name": "stdout",
     "output_type": "stream",
     "text": [
      "[[1 2 3]\n",
      " [5 6 7]]\n"
     ]
    }
   ],
   "source": [
    "a=np.array([[1,2,3],[5,6,7]])\n",
    "print(a)"
   ]
  },
  {
   "cell_type": "code",
   "execution_count": 141,
   "id": "166da833",
   "metadata": {},
   "outputs": [
    {
     "data": {
      "text/plain": [
       "array([[101, 102, 103],\n",
       "       [105, 106, 107]])"
      ]
     },
     "execution_count": 141,
     "metadata": {},
     "output_type": "execute_result"
    }
   ],
   "source": [
    "a+100"
   ]
  },
  {
   "cell_type": "code",
   "execution_count": 142,
   "id": "91b912f5",
   "metadata": {},
   "outputs": [
    {
     "name": "stdout",
     "output_type": "stream",
     "text": [
      "[100 200 300]\n"
     ]
    }
   ],
   "source": [
    "b=np.array([100,200,300])\n",
    "print(b)"
   ]
  },
  {
   "cell_type": "code",
   "execution_count": 143,
   "id": "3c2b7799",
   "metadata": {},
   "outputs": [
    {
     "data": {
      "text/plain": [
       "array([[101, 202, 303],\n",
       "       [105, 206, 307]])"
      ]
     },
     "execution_count": 143,
     "metadata": {},
     "output_type": "execute_result"
    }
   ],
   "source": [
    "a+b"
   ]
  },
  {
   "cell_type": "markdown",
   "id": "9c59b644",
   "metadata": {},
   "source": [
    "## copy and view"
   ]
  },
  {
   "cell_type": "code",
   "execution_count": 2,
   "id": "7aaca174",
   "metadata": {},
   "outputs": [],
   "source": [
    "import numpy as np"
   ]
  },
  {
   "cell_type": "code",
   "execution_count": 3,
   "id": "df55cef1",
   "metadata": {},
   "outputs": [
    {
     "name": "stdout",
     "output_type": "stream",
     "text": [
      "[1 2 3 4]\n"
     ]
    }
   ],
   "source": [
    "arr=np.array([1,2,3,4])\n",
    "print(arr)"
   ]
  },
  {
   "cell_type": "code",
   "execution_count": 4,
   "id": "5f742de6",
   "metadata": {},
   "outputs": [
    {
     "name": "stdout",
     "output_type": "stream",
     "text": [
      "[1 2 3 4]\n"
     ]
    }
   ],
   "source": [
    "arr1=arr.copy()\n",
    "print(arr1)"
   ]
  },
  {
   "cell_type": "code",
   "execution_count": 5,
   "id": "67cf8b06",
   "metadata": {},
   "outputs": [],
   "source": [
    "arr1[0]=20"
   ]
  },
  {
   "cell_type": "code",
   "execution_count": 6,
   "id": "8f3db08a",
   "metadata": {},
   "outputs": [
    {
     "name": "stdout",
     "output_type": "stream",
     "text": [
      "[1 2 3 4] [20  2  3  4]\n"
     ]
    }
   ],
   "source": [
    "print(arr,arr1)"
   ]
  },
  {
   "cell_type": "code",
   "execution_count": 7,
   "id": "94942072",
   "metadata": {},
   "outputs": [
    {
     "name": "stdout",
     "output_type": "stream",
     "text": [
      "[ 1  2 30  4] [20  2  3  4]\n"
     ]
    }
   ],
   "source": [
    "arr[2]=30\n",
    "print(arr,arr1)"
   ]
  },
  {
   "cell_type": "markdown",
   "id": "ebe5d0ee",
   "metadata": {},
   "source": [
    "## view"
   ]
  },
  {
   "cell_type": "code",
   "execution_count": 10,
   "id": "94a9990e",
   "metadata": {},
   "outputs": [
    {
     "name": "stdout",
     "output_type": "stream",
     "text": [
      "[[ 6  7]\n",
      " [ 8  9]\n",
      " [10 11]]\n"
     ]
    }
   ],
   "source": [
    "arr=np.arange(6,12).reshape(3,2)\n",
    "print(arr)"
   ]
  },
  {
   "cell_type": "code",
   "execution_count": 32,
   "id": "47a68ebd",
   "metadata": {},
   "outputs": [
    {
     "name": "stdout",
     "output_type": "stream",
     "text": [
      "[[30 30]\n",
      " [ 8  9]\n",
      " [10 11]]\n",
      "[[30 30]\n",
      " [ 8  9]\n",
      " [10 11]]\n"
     ]
    }
   ],
   "source": [
    "arr1=arr.view()\n",
    "print(arr)\n",
    "print(arr1)"
   ]
  },
  {
   "cell_type": "code",
   "execution_count": 33,
   "id": "70635e99",
   "metadata": {},
   "outputs": [
    {
     "name": "stdout",
     "output_type": "stream",
     "text": [
      "[[30 30]\n",
      " [ 8  9]\n",
      " [10 11]]\n",
      "[[30 30]\n",
      " [ 8  9]\n",
      " [10 11]]\n"
     ]
    }
   ],
   "source": [
    "arr1[0]=30\n",
    "print(arr)\n",
    "print(arr1)"
   ]
  },
  {
   "cell_type": "code",
   "execution_count": 34,
   "id": "1a1e298c",
   "metadata": {},
   "outputs": [
    {
     "name": "stdout",
     "output_type": "stream",
     "text": [
      "[30 30  8  9 10 11]\n"
     ]
    }
   ],
   "source": [
    "print(arr1.base)"
   ]
  },
  {
   "cell_type": "code",
   "execution_count": 35,
   "id": "f056e549",
   "metadata": {},
   "outputs": [],
   "source": [
    "arr1=arr.copy()"
   ]
  },
  {
   "cell_type": "code",
   "execution_count": 36,
   "id": "00052178",
   "metadata": {},
   "outputs": [
    {
     "name": "stdout",
     "output_type": "stream",
     "text": [
      "None\n"
     ]
    }
   ],
   "source": [
    "print(arr1.base)"
   ]
  },
  {
   "cell_type": "markdown",
   "id": "dc3b533f",
   "metadata": {},
   "source": [
    "## array iterating"
   ]
  },
  {
   "cell_type": "code",
   "execution_count": 37,
   "id": "fcc5aafa",
   "metadata": {},
   "outputs": [
    {
     "name": "stdout",
     "output_type": "stream",
     "text": [
      "[[3 4]\n",
      " [5 6]\n",
      " [7 8]]\n"
     ]
    }
   ],
   "source": [
    "arr=np.arange(3,9).reshape(3,2)\n",
    "print(arr)"
   ]
  },
  {
   "cell_type": "markdown",
   "id": "5dd0febb",
   "metadata": {},
   "source": [
    "### old"
   ]
  },
  {
   "cell_type": "code",
   "execution_count": 38,
   "id": "b005bc60",
   "metadata": {},
   "outputs": [
    {
     "name": "stdout",
     "output_type": "stream",
     "text": [
      "3\n",
      "4\n",
      "5\n",
      "6\n",
      "7\n",
      "8\n"
     ]
    }
   ],
   "source": [
    "for x in arr:\n",
    "    for y in x:\n",
    "        print(y)"
   ]
  },
  {
   "cell_type": "markdown",
   "id": "45d9f630",
   "metadata": {},
   "source": [
    "### there is funtion in numpy nditer()"
   ]
  },
  {
   "cell_type": "code",
   "execution_count": 40,
   "id": "844aa6cf",
   "metadata": {},
   "outputs": [
    {
     "name": "stdout",
     "output_type": "stream",
     "text": [
      "3\n",
      "4\n",
      "5\n",
      "6\n",
      "7\n",
      "8\n"
     ]
    }
   ],
   "source": [
    "for x in np.nditer(arr):\n",
    "    print(x)"
   ]
  },
  {
   "cell_type": "markdown",
   "id": "9559564f",
   "metadata": {},
   "source": [
    "#### enumerater"
   ]
  },
  {
   "cell_type": "code",
   "execution_count": 41,
   "id": "d1429bcc",
   "metadata": {},
   "outputs": [
    {
     "name": "stdout",
     "output_type": "stream",
     "text": [
      "(0, 0) 3\n",
      "(0, 1) 4\n",
      "(1, 0) 5\n",
      "(1, 1) 6\n",
      "(2, 0) 7\n",
      "(2, 1) 8\n"
     ]
    }
   ],
   "source": [
    "for x,y in np.ndenumerate(arr):\n",
    "    print(x,y)"
   ]
  },
  {
   "cell_type": "markdown",
   "id": "f4bfa3db",
   "metadata": {},
   "source": [
    "### flat()"
   ]
  },
  {
   "cell_type": "code",
   "execution_count": 44,
   "id": "b8b9cb41",
   "metadata": {},
   "outputs": [
    {
     "name": "stdout",
     "output_type": "stream",
     "text": [
      "3\n",
      "4\n",
      "5\n",
      "6\n",
      "7\n",
      "8\n"
     ]
    }
   ],
   "source": [
    "for x in arr.flat:\n",
    "    print(x)"
   ]
  },
  {
   "cell_type": "markdown",
   "id": "2bcadc73",
   "metadata": {},
   "source": [
    "### ravel()"
   ]
  },
  {
   "cell_type": "code",
   "execution_count": 45,
   "id": "6169eae4",
   "metadata": {},
   "outputs": [
    {
     "data": {
      "text/plain": [
       "array([3, 4, 5, 6, 7, 8])"
      ]
     },
     "execution_count": 45,
     "metadata": {},
     "output_type": "execute_result"
    }
   ],
   "source": [
    "arr.ravel()"
   ]
  },
  {
   "cell_type": "markdown",
   "id": "8ab1cf25",
   "metadata": {},
   "source": [
    "## numpy joins"
   ]
  },
  {
   "cell_type": "markdown",
   "id": "06200eb6",
   "metadata": {},
   "source": [
    "### concatenate"
   ]
  },
  {
   "cell_type": "code",
   "execution_count": 50,
   "id": "c0d30da4",
   "metadata": {},
   "outputs": [
    {
     "name": "stdout",
     "output_type": "stream",
     "text": [
      "[[1 2]\n",
      " [3 2]]\n",
      "[[4 7]\n",
      " [5 6]]\n"
     ]
    }
   ],
   "source": [
    "arr1=np.array([[1,2],[3,2]])\n",
    "arr2=np.array([[4,7],[5,6]])\n",
    "print(arr1)\n",
    "print(arr2)"
   ]
  },
  {
   "cell_type": "code",
   "execution_count": 48,
   "id": "33de5903",
   "metadata": {},
   "outputs": [
    {
     "name": "stdout",
     "output_type": "stream",
     "text": [
      "[[1 2 4 7]\n",
      " [3 2 5 6]]\n"
     ]
    }
   ],
   "source": [
    "arr=np.concatenate((arr1,arr2),axis=1)\n",
    "print(arr)"
   ]
  },
  {
   "cell_type": "code",
   "execution_count": 52,
   "id": "0b2658cc",
   "metadata": {},
   "outputs": [
    {
     "name": "stdout",
     "output_type": "stream",
     "text": [
      "[[1 2]\n",
      " [3 2]\n",
      " [4 7]\n",
      " [5 6]]\n"
     ]
    }
   ],
   "source": [
    "arr=np.concatenate((arr1,arr2),axis=0)\n",
    "print(arr)"
   ]
  },
  {
   "cell_type": "markdown",
   "id": "9ee657ec",
   "metadata": {},
   "source": [
    "### stack"
   ]
  },
  {
   "cell_type": "code",
   "execution_count": 57,
   "id": "0cff06bf",
   "metadata": {},
   "outputs": [
    {
     "name": "stdout",
     "output_type": "stream",
     "text": [
      "[[[1 2]\n",
      "  [3 2]]\n",
      "\n",
      " [[4 7]\n",
      "  [5 6]]]\n"
     ]
    },
    {
     "data": {
      "text/plain": [
       "3"
      ]
     },
     "execution_count": 57,
     "metadata": {},
     "output_type": "execute_result"
    }
   ],
   "source": [
    "arr=np.stack((arr1,arr2))\n",
    "print(arr)\n",
    "arr.ndim"
   ]
  },
  {
   "cell_type": "markdown",
   "id": "528e2e16",
   "metadata": {},
   "source": [
    "### vstack"
   ]
  },
  {
   "cell_type": "code",
   "execution_count": 54,
   "id": "dc48be6a",
   "metadata": {},
   "outputs": [
    {
     "name": "stdout",
     "output_type": "stream",
     "text": [
      "[[1 2]\n",
      " [3 2]\n",
      " [4 7]\n",
      " [5 6]]\n"
     ]
    }
   ],
   "source": [
    "arr=np.vstack((arr1,arr2))\n",
    "print(arr)"
   ]
  },
  {
   "cell_type": "markdown",
   "id": "ad154c97",
   "metadata": {},
   "source": [
    "### hstack"
   ]
  },
  {
   "cell_type": "code",
   "execution_count": 56,
   "id": "c5bd2ba1",
   "metadata": {},
   "outputs": [
    {
     "name": "stdout",
     "output_type": "stream",
     "text": [
      "[[1 2 4 7]\n",
      " [3 2 5 6]]\n"
     ]
    }
   ],
   "source": [
    "arr=np.hstack((arr1,arr2))\n",
    "print(arr)"
   ]
  },
  {
   "cell_type": "markdown",
   "id": "69ece11d",
   "metadata": {},
   "source": [
    "### dstack"
   ]
  },
  {
   "cell_type": "code",
   "execution_count": 59,
   "id": "89c45842",
   "metadata": {},
   "outputs": [
    {
     "name": "stdout",
     "output_type": "stream",
     "text": [
      "[[[1 4]\n",
      "  [2 7]]\n",
      "\n",
      " [[3 5]\n",
      "  [2 6]]]\n"
     ]
    },
    {
     "data": {
      "text/plain": [
       "3"
      ]
     },
     "execution_count": 59,
     "metadata": {},
     "output_type": "execute_result"
    }
   ],
   "source": [
    "arr=np.dstack((arr1,arr2))\n",
    "print(arr)\n",
    "arr.ndim"
   ]
  },
  {
   "cell_type": "markdown",
   "id": "cd5fa3f6",
   "metadata": {},
   "source": [
    "## searching in array"
   ]
  },
  {
   "cell_type": "code",
   "execution_count": 60,
   "id": "d0713169",
   "metadata": {},
   "outputs": [
    {
     "name": "stdout",
     "output_type": "stream",
     "text": [
      "[[[1 4]\n",
      "  [2 7]]\n",
      "\n",
      " [[3 5]\n",
      "  [2 6]]]\n"
     ]
    }
   ],
   "source": [
    "print(arr)"
   ]
  },
  {
   "cell_type": "code",
   "execution_count": 66,
   "id": "f2929098",
   "metadata": {},
   "outputs": [
    {
     "name": "stdout",
     "output_type": "stream",
     "text": [
      "(array([0], dtype=int64), array([0], dtype=int64), array([1], dtype=int64))\n"
     ]
    }
   ],
   "source": [
    "x=np.where(arr==4)\n",
    "print(x)"
   ]
  },
  {
   "cell_type": "code",
   "execution_count": 67,
   "id": "923637af",
   "metadata": {},
   "outputs": [
    {
     "name": "stdout",
     "output_type": "stream",
     "text": [
      "(array([0, 0, 1, 1], dtype=int64), array([0, 1, 1, 1], dtype=int64), array([1, 0, 0, 1], dtype=int64))\n"
     ]
    }
   ],
   "source": [
    "x=np.where(arr%2==0)\n",
    "print(x)"
   ]
  },
  {
   "cell_type": "code",
   "execution_count": 97,
   "id": "b1533794",
   "metadata": {},
   "outputs": [
    {
     "name": "stdout",
     "output_type": "stream",
     "text": [
      "[2 3 4 5 6 7 8 9]\n"
     ]
    }
   ],
   "source": [
    "arr=np.arange(2,10)\n",
    "print(arr)"
   ]
  },
  {
   "cell_type": "code",
   "execution_count": 88,
   "id": "4467e2e9",
   "metadata": {},
   "outputs": [],
   "source": [
    "m=np.searchsorted(arr,7)"
   ]
  },
  {
   "cell_type": "code",
   "execution_count": 103,
   "id": "faba2464",
   "metadata": {},
   "outputs": [
    {
     "data": {
      "text/plain": [
       "5"
      ]
     },
     "execution_count": 103,
     "metadata": {},
     "output_type": "execute_result"
    }
   ],
   "source": [
    "np.searchsorted(arr,7, side='left')\n"
   ]
  },
  {
   "cell_type": "code",
   "execution_count": 102,
   "id": "a6eee827",
   "metadata": {},
   "outputs": [
    {
     "name": "stdout",
     "output_type": "stream",
     "text": [
      "[2 3 4 5 6 7 8 9]\n"
     ]
    },
    {
     "data": {
      "text/plain": [
       "6"
      ]
     },
     "execution_count": 102,
     "metadata": {},
     "output_type": "execute_result"
    }
   ],
   "source": [
    "arr=np.arange(2,10)\n",
    "print(arr)\n",
    "np.searchsorted(arr,7, side='right')\n"
   ]
  },
  {
   "cell_type": "code",
   "execution_count": 109,
   "id": "cdc98379",
   "metadata": {},
   "outputs": [
    {
     "name": "stdout",
     "output_type": "stream",
     "text": [
      "0\n"
     ]
    }
   ],
   "source": [
    "arr = np.array([6, 7, 8, 9])\n",
    "x = np.searchsorted(arr, 6, side='left')\n",
    "print(x)"
   ]
  },
  {
   "cell_type": "markdown",
   "id": "8183a646",
   "metadata": {},
   "source": [
    "## splitting"
   ]
  },
  {
   "cell_type": "markdown",
   "id": "64fecbf5",
   "metadata": {},
   "source": [
    "### array_split() and split()"
   ]
  },
  {
   "cell_type": "code",
   "execution_count": 110,
   "id": "6569b4ff",
   "metadata": {},
   "outputs": [
    {
     "name": "stdout",
     "output_type": "stream",
     "text": [
      "[array([1, 2]), array([3, 4]), array([5, 6])]\n"
     ]
    }
   ],
   "source": [
    "arr=np.array([1,2,3,4,5,6])\n",
    "arr1=np.array_split(arr,3)\n",
    "print(arr1)"
   ]
  },
  {
   "cell_type": "code",
   "execution_count": 111,
   "id": "c8df001f",
   "metadata": {},
   "outputs": [
    {
     "name": "stdout",
     "output_type": "stream",
     "text": [
      "[array([1, 2]), array([3, 4]), array([5]), array([6])]\n"
     ]
    }
   ],
   "source": [
    "arr=np.array([1,2,3,4,5,6])\n",
    "arr1=np.array_split(arr,4)\n",
    "print(arr1)"
   ]
  },
  {
   "cell_type": "code",
   "execution_count": 117,
   "id": "9ef65d56",
   "metadata": {},
   "outputs": [
    {
     "name": "stdout",
     "output_type": "stream",
     "text": [
      "[array([1, 2]), array([3, 4]), array([5, 6])]\n"
     ]
    }
   ],
   "source": [
    "arr2=np.split(arr,3)\n",
    "print(arr2)"
   ]
  },
  {
   "cell_type": "markdown",
   "id": "dfbfffbb",
   "metadata": {},
   "source": [
    "#### spli() is not allow to adjust the element when the element are less than in sourse array"
   ]
  },
  {
   "cell_type": "code",
   "execution_count": 137,
   "id": "eca92fe3",
   "metadata": {},
   "outputs": [
    {
     "name": "stdout",
     "output_type": "stream",
     "text": [
      "[[1 2]\n",
      " [3 4]\n",
      " [5 6]\n",
      " [6 8]]\n",
      "[array([[1],\n",
      "       [3],\n",
      "       [5],\n",
      "       [6]]), array([[2],\n",
      "       [4],\n",
      "       [6],\n",
      "       [8]])]\n"
     ]
    }
   ],
   "source": [
    "arr=np.array([[1,2],[3,4],[5,6],[6,8]])\n",
    "arr1=np.array_split(arr,2,axis=1)\n",
    "print(arr)\n",
    "print(arr1)"
   ]
  },
  {
   "cell_type": "code",
   "execution_count": 141,
   "id": "36e4c6aa",
   "metadata": {},
   "outputs": [
    {
     "name": "stdout",
     "output_type": "stream",
     "text": [
      "[[1 2]\n",
      " [3 4]\n",
      " [5 6]\n",
      " [6 8]]\n",
      "[array([[1, 2],\n",
      "       [3, 4]]), array([[5, 6],\n",
      "       [6, 8]])]\n"
     ]
    }
   ],
   "source": [
    "arr=np.array([[1,2],[3,4],[5,6],[6,8]])\n",
    "arr1=np.array_split(arr,2,axis=0)\n",
    "print(arr)\n",
    "print(arr1)"
   ]
  },
  {
   "cell_type": "markdown",
   "id": "4120336d",
   "metadata": {},
   "source": [
    "## hsplit ,vslipt and dsplit()"
   ]
  },
  {
   "cell_type": "code",
   "execution_count": 143,
   "id": "ddff590b",
   "metadata": {},
   "outputs": [
    {
     "name": "stdout",
     "output_type": "stream",
     "text": [
      "[[1 2]\n",
      " [3 4]\n",
      " [5 6]\n",
      " [6 8]]\n",
      "[array([[1],\n",
      "       [3],\n",
      "       [5],\n",
      "       [6]]), array([[2],\n",
      "       [4],\n",
      "       [6],\n",
      "       [8]])]\n"
     ]
    }
   ],
   "source": [
    "arr=np.array([[1,2],[3,4],[5,6],[6,8]])\n",
    "arr1=np.hsplit(arr,2)\n",
    "print(arr)\n",
    "print(arr1)"
   ]
  },
  {
   "cell_type": "code",
   "execution_count": 144,
   "id": "4b0a47f2",
   "metadata": {},
   "outputs": [
    {
     "name": "stdout",
     "output_type": "stream",
     "text": [
      "[[1 2]\n",
      " [3 4]\n",
      " [5 6]\n",
      " [6 8]]\n",
      "[array([[1, 2],\n",
      "       [3, 4]]), array([[5, 6],\n",
      "       [6, 8]])]\n"
     ]
    }
   ],
   "source": [
    "arr=np.array([[1,2],[3,4],[5,6],[6,8]])\n",
    "arr1=np.vsplit(arr,2)\n",
    "print(arr)\n",
    "print(arr1)"
   ]
  },
  {
   "cell_type": "code",
   "execution_count": 146,
   "id": "e72d8eef",
   "metadata": {},
   "outputs": [
    {
     "name": "stdout",
     "output_type": "stream",
     "text": [
      "[[[1 2]\n",
      "  [3 4]]\n",
      "\n",
      " [[5 6]\n",
      "  [6 8]]]\n",
      "[array([[[1],\n",
      "        [3]],\n",
      "\n",
      "       [[5],\n",
      "        [6]]]), array([[[2],\n",
      "        [4]],\n",
      "\n",
      "       [[6],\n",
      "        [8]]])]\n"
     ]
    }
   ],
   "source": [
    "arr=np.array([[[1,2],[3,4]],[[5,6],[6,8]]])\n",
    "arr1=np.dsplit(arr,2)\n",
    "print(arr)\n",
    "print(arr1)"
   ]
  },
  {
   "cell_type": "markdown",
   "id": "179cc031",
   "metadata": {},
   "source": [
    "## sorting"
   ]
  },
  {
   "cell_type": "code",
   "execution_count": 148,
   "id": "8e8fc84f",
   "metadata": {},
   "outputs": [
    {
     "name": "stdout",
     "output_type": "stream",
     "text": [
      "[9 5 7 4 2 5]\n"
     ]
    }
   ],
   "source": [
    "arr=np.random.randint(1,10,6)\n",
    "print(arr)"
   ]
  },
  {
   "cell_type": "code",
   "execution_count": 149,
   "id": "5edf742f",
   "metadata": {},
   "outputs": [
    {
     "name": "stdout",
     "output_type": "stream",
     "text": [
      "[2 4 5 5 7 9]\n"
     ]
    }
   ],
   "source": [
    "print(np.sort(arr))"
   ]
  },
  {
   "cell_type": "code",
   "execution_count": 151,
   "id": "5d5973e9",
   "metadata": {},
   "outputs": [
    {
     "name": "stdout",
     "output_type": "stream",
     "text": [
      "[ True False  True False False]\n"
     ]
    }
   ],
   "source": [
    "arr=np.array([True,False,True,False,False])\n",
    "print(arr)"
   ]
  },
  {
   "cell_type": "code",
   "execution_count": 152,
   "id": "c0aa51ca",
   "metadata": {},
   "outputs": [
    {
     "data": {
      "text/plain": [
       "array([False, False, False,  True,  True])"
      ]
     },
     "execution_count": 152,
     "metadata": {},
     "output_type": "execute_result"
    }
   ],
   "source": [
    "np.sort(arr)"
   ]
  },
  {
   "cell_type": "code",
   "execution_count": 157,
   "id": "812bc9d9",
   "metadata": {},
   "outputs": [
    {
     "name": "stdout",
     "output_type": "stream",
     "text": [
      "[[[9 8]\n",
      "  [5 4]]\n",
      "\n",
      " [[7 6]\n",
      "  [6 8]]]\n"
     ]
    },
    {
     "data": {
      "text/plain": [
       "array([[[8, 9],\n",
       "        [4, 5]],\n",
       "\n",
       "       [[6, 7],\n",
       "        [6, 8]]])"
      ]
     },
     "execution_count": 157,
     "metadata": {},
     "output_type": "execute_result"
    }
   ],
   "source": [
    "arr=np.array([[[9,8],[5,4]],[[7,6],[6,8]]])\n",
    "print(arr)\n",
    "np.sort(arr)"
   ]
  },
  {
   "cell_type": "markdown",
   "id": "a2b9a41e",
   "metadata": {},
   "source": [
    "## filttering"
   ]
  },
  {
   "cell_type": "code",
   "execution_count": 162,
   "id": "73f88c57",
   "metadata": {},
   "outputs": [],
   "source": [
    "arr= np.array([1,5,4,3,6,7])\n",
    "x=[True,True,False,True,False,True]\n"
   ]
  },
  {
   "cell_type": "code",
   "execution_count": 163,
   "id": "cc7d60e1",
   "metadata": {},
   "outputs": [
    {
     "name": "stdout",
     "output_type": "stream",
     "text": [
      "[1 5 3 7]\n"
     ]
    }
   ],
   "source": [
    "arr2=arr[x]\n",
    "print(arr2)"
   ]
  },
  {
   "cell_type": "markdown",
   "id": "87248a5a",
   "metadata": {},
   "source": [
    "### to create filtter array based on condition"
   ]
  },
  {
   "cell_type": "code",
   "execution_count": 168,
   "id": "eb3b0ac1",
   "metadata": {},
   "outputs": [
    {
     "name": "stdout",
     "output_type": "stream",
     "text": [
      "[5 4 6]\n",
      "[False  True  True False  True False]\n"
     ]
    }
   ],
   "source": [
    "arr= np.array([1,5,4,3,6,3])\n",
    "filter_arr=arr>3\n",
    "arr2=arr[filter_arr]\n",
    "print(arr2)\n",
    "print(filter_arr)"
   ]
  },
  {
   "cell_type": "code",
   "execution_count": null,
   "id": "42ed86e3",
   "metadata": {},
   "outputs": [],
   "source": []
  }
 ],
 "metadata": {
  "kernelspec": {
   "display_name": "Python 3 (ipykernel)",
   "language": "python",
   "name": "python3"
  },
  "language_info": {
   "codemirror_mode": {
    "name": "ipython",
    "version": 3
   },
   "file_extension": ".py",
   "mimetype": "text/x-python",
   "name": "python",
   "nbconvert_exporter": "python",
   "pygments_lexer": "ipython3",
   "version": "3.11.5"
  }
 },
 "nbformat": 4,
 "nbformat_minor": 5
}
